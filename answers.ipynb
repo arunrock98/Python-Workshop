{
 "metadata": {
  "language_info": {
   "codemirror_mode": {
    "name": "ipython",
    "version": 3
   },
   "file_extension": ".py",
   "mimetype": "text/x-python",
   "name": "python",
   "nbconvert_exporter": "python",
   "pygments_lexer": "ipython3",
   "version": "3.7.4-final"
  },
  "orig_nbformat": 2,
  "kernelspec": {
   "name": "python3",
   "display_name": "Python 3",
   "language": "python"
  }
 },
 "nbformat": 4,
 "nbformat_minor": 2,
 "cells": [
  {
   "cell_type": "code",
   "execution_count": 4,
   "metadata": {},
   "outputs": [
    {
     "output_type": "stream",
     "name": "stdout",
     "text": [
      "[22, 26, 16, 11, 14, 15, 27, 25, 42, 13]\n"
     ]
    }
   ],
   "source": [
    "# Question 1 finding the age of the customers\n",
    "import numpy as np\n",
    "age =[]\n",
    "year =  [1999, 1995, 2005, 2010, 2007, 2006, 1994, 1996, 1979, 2008]\n",
    "for i in year : \n",
    "    age.append(2021 - i)\n",
    "print(age)\n"
   ]
  },
  {
   "cell_type": "code",
   "execution_count": 5,
   "metadata": {},
   "outputs": [
    {
     "output_type": "execute_result",
     "data": {
      "text/plain": [
       "[22, 26, 16, 11, 14, 15, 27, 25, 42, 13]"
      ]
     },
     "metadata": {},
     "execution_count": 5
    }
   ],
   "source": [
    "age"
   ]
  },
  {
   "cell_type": "code",
   "execution_count": 6,
   "metadata": {},
   "outputs": [
    {
     "output_type": "stream",
     "name": "stdout",
     "text": [
      "[22, 26, 16, 11, 14, 15, 27, 25, 13]\n"
     ]
    }
   ],
   "source": [
    "# Question 2 - removing the oldest and yougest person from the list\n",
    "age.remove(max(age))\n",
    "print(age)"
   ]
  },
  {
   "cell_type": "code",
   "execution_count": 7,
   "metadata": {},
   "outputs": [
    {
     "output_type": "stream",
     "name": "stdout",
     "text": [
      "[22, 26, 16, 14, 15, 27, 25, 13]\n"
     ]
    }
   ],
   "source": [
    "age.remove(min(age))\n",
    "print(age)"
   ]
  },
  {
   "cell_type": "code",
   "execution_count": 8,
   "metadata": {},
   "outputs": [
    {
     "output_type": "stream",
     "name": "stdout",
     "text": [
      "[15, 13, 16, 18, 19, 10, 12]\n"
     ]
    }
   ],
   "source": [
    "# Question 3 joining 2 lists of customers\n",
    "berlin = [15, 13, 16, 18, 19, 10, 12 ]\n",
    "munich = [7, 13, 15, 20, 19, 18, 10, 16]\n",
    "final = (berlin) or (munich)\n",
    "print(final)"
   ]
  },
  {
   "cell_type": "code",
   "execution_count": 9,
   "metadata": {},
   "outputs": [
    {
     "output_type": "stream",
     "name": "stdout",
     "text": [
      "[15, 13, 16, 18, 19, 10, 12]\n"
     ]
    }
   ],
   "source": [
    "# Question 4 : removing duplicates from the list\n",
    "def remove_duplicates():\n",
    "        for berlin in munich :\n",
    "         berlin.append(berlin.remove())\n",
    "        return berlin    \n",
    "print(berlin)"
   ]
  },
  {
   "cell_type": "code",
   "execution_count": null,
   "metadata": {},
   "outputs": [],
   "source": []
  }
 ]
}