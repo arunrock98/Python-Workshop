{
 "metadata": {
  "language_info": {
   "codemirror_mode": {
    "name": "ipython",
    "version": 3
   },
   "file_extension": ".py",
   "mimetype": "text/x-python",
   "name": "python",
   "nbconvert_exporter": "python",
   "pygments_lexer": "ipython3",
   "version": "3.7.4-final"
  },
  "orig_nbformat": 2,
  "kernelspec": {
   "name": "python3",
   "display_name": "Python 3",
   "language": "python"
  }
 },
 "nbformat": 4,
 "nbformat_minor": 2,
 "cells": [
  {
   "cell_type": "code",
   "execution_count": 1,
   "metadata": {},
   "outputs": [
    {
     "output_type": "stream",
     "name": "stdout",
     "text": [
      "[22, 26, 16, 11, 14, 15, 27, 25, 42, 13]\n"
     ]
    }
   ],
   "source": [
    "age = []\r\n",
    "year = [1999, 1995, 2005, 2010, 2007, 2006, 1994, 1996, 1979, 2008]\r\n",
    "for i in year:\r\n",
    "    age.append(2021 - i)\r\n",
    "print(age)"
   ]
  },
  {
   "cell_type": "code",
   "execution_count": null,
   "metadata": {},
   "outputs": [],
   "source": [
    "# question 2 yougest person and oldest person"
   ]
  },
  {
   "cell_type": "code",
   "execution_count": 22,
   "metadata": {},
   "outputs": [
    {
     "output_type": "stream",
     "name": "stdout",
     "text": [
      "[11, 13, 14, 15, 16, 22, 25, 26, 27, 42]\n"
     ]
    }
   ],
   "source": [
    "age.sort()\n",
    "print(age)"
   ]
  },
  {
   "cell_type": "code",
   "execution_count": 23,
   "metadata": {},
   "outputs": [
    {
     "output_type": "stream",
     "name": "stdout",
     "text": [
      "[42, 27, 26, 25, 22, 16, 15, 14, 13, 11]\n"
     ]
    }
   ],
   "source": [
    "# oldest to youngest person\n",
    "age.sort(reverse = True)\n",
    "print(age)"
   ]
  },
  {
   "cell_type": "code",
   "execution_count": null,
   "metadata": {},
   "outputs": [],
   "source": []
  }
 ]
}