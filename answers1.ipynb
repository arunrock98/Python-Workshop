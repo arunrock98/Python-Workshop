{
 "metadata": {
  "language_info": {
   "codemirror_mode": {
    "name": "ipython",
    "version": 3
   },
   "file_extension": ".py",
   "mimetype": "text/x-python",
   "name": "python",
   "nbconvert_exporter": "python",
   "pygments_lexer": "ipython3",
   "version": "3.7.4-final"
  },
  "orig_nbformat": 2,
  "kernelspec": {
   "name": "python3",
   "display_name": "Python 3",
   "language": "python"
  }
 },
 "nbformat": 4,
 "nbformat_minor": 2,
 "cells": [
  {
   "cell_type": "code",
   "execution_count": 104,
   "metadata": {},
   "outputs": [],
   "source": [
    "# Question 1 finding the age of the customers - \n",
    "# Sample input:   [1999, 1995, 2005, 2010, 2007, 2006, 1994, 1996, 1979, 2008],\n",
    "# Sample output: [20, 24, 14, 9, 12, 13, 25, 23, 40, 11]\n",
    "\n",
    "\n",
    "year =  [1999, 1995, 2005, 2010, 2007, 2006, 1994, 1996, 1979, 2008]\n",
    "def cal_age(year):\n",
    "    age =[]\n",
    "    for i in year : \n",
    "       age.append(2019 - i)\n",
    "    return age\n"
   ]
  },
  {
   "cell_type": "code",
   "execution_count": 105,
   "metadata": {},
   "outputs": [
    {
     "output_type": "execute_result",
     "data": {
      "text/plain": [
       "[20, 24, 14, 9, 12, 13, 25, 23, 40, 11]"
      ]
     },
     "metadata": {},
     "execution_count": 105
    }
   ],
   "source": [
    "cal_age(year)"
   ]
  },
  {
   "cell_type": "code",
   "execution_count": 122,
   "metadata": {},
   "outputs": [],
   "source": [
    "# Question 2 - removing the oldest and yougest person from the list\n",
    "# Sample input: [20, 24, 14, 9, 12, 13, 25, 23, 40, 11]\n",
    "# Sample output: [20, 24, 14, 12, 13, 25, 23, 11]\n",
    "age = [20, 24, 14, 9, 12, 13, 25, 23, 40, 11]\n",
    "def remove_out(age):\n",
    "      age.remove(max(age))\n",
    "      age.remove(max(age))\n",
    "      return age\n",
    "     \n"
   ]
  },
  {
   "cell_type": "code",
   "execution_count": 123,
   "metadata": {},
   "outputs": [
    {
     "output_type": "execute_result",
     "data": {
      "text/plain": [
       "[20, 24, 14, 9, 12, 13, 23, 11]"
      ]
     },
     "metadata": {},
     "execution_count": 123
    }
   ],
   "source": [
    "remove_out(age)"
   ]
  },
  {
   "cell_type": "code",
   "execution_count": 81,
   "metadata": {},
   "outputs": [
    {
     "output_type": "stream",
     "name": "stdout",
     "text": [
      "[15, 13, 16, 18, 19, 10, 12]\n"
     ]
    }
   ],
   "source": [
    "# Question 3 joining 2 lists of customers\n",
    "berlin = [15, 13, 16, 18, 19, 10, 12 ]\n",
    "munich = [7, 13, 15, 20, 19, 18, 10, 16]\n",
    "final = (munich) and (berlin)\n",
    "print(final)"
   ]
  },
  {
   "cell_type": "code",
   "execution_count": 1,
   "metadata": {},
   "outputs": [],
   "source": [
    "# Question 3 using function retuning comon age values\n",
    "berlin = [15, 13, 16, 18, 19, 10, 12 ]\n",
    "munich = [7, 13, 15, 20, 19, 18, 10, 16]\n",
    "\n",
    "def remove_duplicate():\n",
    "    duplicate = []\n",
    "    for munich_item in munich[:]:\n",
    "        for berlin_item in berlin[:]:\n",
    "            if munich_item ==berlin_item:\n",
    "                duplicate.append(berlin_item)\n",
    "    return duplicate"
   ]
  },
  {
   "cell_type": "code",
   "execution_count": 2,
   "metadata": {},
   "outputs": [
    {
     "output_type": "execute_result",
     "data": {
      "text/plain": [
       "[13, 15, 19, 18, 10, 16]"
      ]
     },
     "metadata": {},
     "execution_count": 2
    }
   ],
   "source": [
    "remove_duplicate()"
   ]
  },
  {
   "cell_type": "code",
   "execution_count": 124,
   "metadata": {},
   "outputs": [
    {
     "output_type": "stream",
     "name": "stdout",
     "text": [
      "[15, 13, 16, 18, 19, 10, 12]\n"
     ]
    }
   ],
   "source": [
    "# Question 4 : removing duplicates from the list\n",
    "berlin = [15, 13, 16, 18, 19, 10, 12 ]\n",
    "munich = [7, 13, 15, 20, 19, 18, 10, 16]\n",
    "def remove_duplicates():\n",
    "        for berlin in munich :\n",
    "         berlin.append(berlin.remove())\n",
    "        return berlin    \n",
    "print(berlin)"
   ]
  },
  {
   "cell_type": "code",
   "execution_count": null,
   "metadata": {},
   "outputs": [],
   "source": []
  },
  {
   "cell_type": "code",
   "execution_count": 62,
   "metadata": {},
   "outputs": [],
   "source": [
    "# Question 5  - checking the age is available or not"
   ]
  },
  {
   "cell_type": "code",
   "execution_count": 16,
   "metadata": {},
   "outputs": [],
   "source": [
    "def find(list,x):\n",
    "    for i in list:\n",
    "        if i == x:\n",
    "         return(True)\n",
    "        else:\n",
    "         return(False)  \n",
    "    "
   ]
  },
  {
   "cell_type": "code",
   "execution_count": 42,
   "metadata": {},
   "outputs": [
    {
     "output_type": "execute_result",
     "data": {
      "text/plain": [
       "True"
      ]
     },
     "metadata": {},
     "execution_count": 42
    }
   ],
   "source": [
    "find([15,13,16,18,19,15,10], 15)\n"
   ]
  },
  {
   "cell_type": "code",
   "execution_count": 19,
   "metadata": {},
   "outputs": [
    {
     "output_type": "execute_result",
     "data": {
      "text/plain": [
       "False"
      ]
     },
     "metadata": {},
     "execution_count": 19
    }
   ],
   "source": [
    "find( [15,13,16,18,19,15,10], 28)"
   ]
  },
  {
   "cell_type": "code",
   "execution_count": 40,
   "metadata": {},
   "outputs": [
    {
     "output_type": "execute_result",
     "data": {
      "text/plain": [
       "False"
      ]
     },
     "metadata": {},
     "execution_count": 40
    }
   ],
   "source": [
    "find( [15,13,16,18,19,15,10], 118)"
   ]
  },
  {
   "cell_type": "code",
   "execution_count": 3,
   "metadata": {},
   "outputs": [],
   "source": [
    "berlin = [15, 13, 16, 18, 19, 10, 12 ]\n",
    "munich = [7, 13, 15, 20, 19, 18, 10, 16]\n",
    "new = []\n",
    "def s_duplicate(berlin,munich):\n",
    "    for i in berlin:\n",
    "        if i in munich:\n",
    "            new.append(i)\n",
    "    return new"
   ]
  },
  {
   "cell_type": "code",
   "execution_count": 4,
   "metadata": {},
   "outputs": [
    {
     "output_type": "execute_result",
     "data": {
      "text/plain": [
       "[15, 13, 16, 18, 19, 10]"
      ]
     },
     "metadata": {},
     "execution_count": 4
    }
   ],
   "source": [
    "s_duplicate(berlin,munich)"
   ]
  },
  {
   "cell_type": "code",
   "execution_count": null,
   "metadata": {},
   "outputs": [],
   "source": [
    "list1 = [15, 13, 16, 18, 19, 10]\n",
    "def remove_dupli(list1):\n",
    "    for x in list1:\n",
    "        if x not in new:\n",
    "            new.append(x)\n",
    "    return new"
   ]
  }
 ]
}